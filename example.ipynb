{
 "cells": [
  {
   "cell_type": "code",
   "execution_count": 1,
   "metadata": {},
   "outputs": [],
   "source": [
    "%load_ext autoreload\n",
    "%autoreload 2"
   ]
  },
  {
   "cell_type": "code",
   "execution_count": 2,
   "metadata": {},
   "outputs": [],
   "source": [
    "from diy_rag.config import load_config\n",
    "from diy_rag.rag import RAG"
   ]
  },
  {
   "cell_type": "code",
   "execution_count": 3,
   "metadata": {},
   "outputs": [],
   "source": [
    "rag = RAG(**load_config())"
   ]
  },
  {
   "cell_type": "code",
   "execution_count": 17,
   "metadata": {},
   "outputs": [
    {
     "name": "stdout",
     "output_type": "stream",
     "text": [
      "To unlock Lightning Ring in Vampire Survivors, you need to defeat 5,000 enemies. It is also the starting weapon of Porta Ladonna.\n"
     ]
    }
   ],
   "source": [
    "completion = rag.completion(\"How do I unlock lightning ring in vampire survivors\")\n",
    "print(completion.content)"
   ]
  },
  {
   "cell_type": "code",
   "execution_count": 19,
   "metadata": {},
   "outputs": [
    {
     "name": "stdout",
     "output_type": "stream",
     "text": [
      "According to the Vampire Survivors wiki, the base damage of Hellfire is 100 (+10). This means that the actual damage dealt by Hellfire will be its base damage plus any additional damage bonuses it may receive from other effects or upgrades.\n"
     ]
    }
   ],
   "source": [
    "completion = rag.completion(\"What is the damage of Hellfire?\")\n",
    "print(completion.content)"
   ]
  },
  {
   "cell_type": "code",
   "execution_count": 21,
   "metadata": {},
   "outputs": [
    {
     "name": "stdout",
     "output_type": "stream",
     "text": [
      "The evolution of Lightning Ring is Thunder Loop. You can evolve Lightning Ring into Thunder Loop with Duplicator.\n"
     ]
    }
   ],
   "source": [
    "completion = rag.completion(\"What is the evolution of Lightning ring and how do i get it?\")\n",
    "print(completion.content)"
   ]
  }
 ],
 "metadata": {
  "kernelspec": {
   "display_name": "Python 3",
   "language": "python",
   "name": "python3"
  },
  "language_info": {
   "codemirror_mode": {
    "name": "ipython",
    "version": 3
   },
   "file_extension": ".py",
   "mimetype": "text/x-python",
   "name": "python",
   "nbconvert_exporter": "python",
   "pygments_lexer": "ipython3",
   "version": "3.10.12"
  }
 },
 "nbformat": 4,
 "nbformat_minor": 2
}
